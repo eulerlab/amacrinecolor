{
 "cells": [
  {
   "cell_type": "code",
   "execution_count": 1,
   "metadata": {},
   "outputs": [
    {
     "name": "stdout",
     "output_type": "stream",
     "text": [
      "Connecting sstrauss@172.25.240.205:3306\n"
     ]
    }
   ],
   "source": [
    "from amacrine_color_schema import *"
   ]
  },
  {
   "cell_type": "markdown",
   "metadata": {},
   "source": [
    "Load kernels"
   ]
  },
  {
   "cell_type": "code",
   "execution_count": 2,
   "metadata": {
    "code_folding": []
   },
   "outputs": [],
   "source": [
    "key_kernel = {\n",
    "                'experimenter': 'Franke',\n",
    "                'preprocess_param_set_id': 1,\n",
    "                'stim_id': 16,\n",
    "                'noise_id': 1,\n",
    "                'param_id': 2\n",
    "            }\n",
    "\n",
    "kernels = pd.DataFrame.from_dict((BC_ColorKernels() *\n",
    "                                  BC_ColorKernels.BC_ColorKernels_Green() *\n",
    "                                  RelativeFieldLocation() *\n",
    "                                  BC_IplDepth() *\n",
    "                                  BC_MinMaxQuality() &\n",
    "                                  key_kernel).fetch(as_dict=True))"
   ]
  },
  {
   "cell_type": "markdown",
   "metadata": {},
   "source": [
    "Unravel dataframe so that each row is one ROI"
   ]
  },
  {
   "cell_type": "code",
   "execution_count": 3,
   "metadata": {
    "code_folding": []
   },
   "outputs": [],
   "source": [
    "columns = ['date', 'exp_num', 'field_id', 'roi',\n",
    "           'uv_center', 'uv_surround', \n",
    "           'green_center', 'green_surround', \n",
    "           'stim_uv_center', 'stim_uv_surround',\n",
    "           'stim_green_center', 'stim_green_surround',\n",
    "           'traces_uv', 'traces_green',\n",
    "           'Rel. field location y', 'ipl_depth', 'quality_values']\n",
    "df = pd.DataFrame(columns=columns)\n",
    "\n",
    "for index, row in kernels.iterrows():\n",
    "    \n",
    "    nb_rois = row['st_kernels_uv'].shape[1]\n",
    "\n",
    "    current_data = {'date': np.repeat(row['date'], nb_rois), \n",
    "                    'exp_num': np.repeat(row['exp_num'], nb_rois), \n",
    "                    'field_id': np.repeat(row['field_id'], nb_rois), \n",
    "                    'roi': np.arange(1,nb_rois+1),\n",
    "                    'uv_center': list(row['st_kernels_uv'][:,:,0].T),\n",
    "                    'uv_surround':  list(row['st_kernels_uv'][:,:,1].T),\n",
    "                    'green_center':  list(row['st_kernels_green'][:,:,0].T), \n",
    "                    'green_surround':  list(row['st_kernels_green'][:,:,1].T),\n",
    "                    'stim_uv_center': list(np.tile(row['cropped_stimulus_uv'][0,:], (nb_rois,1))),\n",
    "                    'stim_uv_surround': list(np.tile(row['cropped_stimulus_uv'][1,:], (nb_rois,1))),\n",
    "                    'stim_green_center': list(np.tile(row['cropped_stimulus_green'][0,:], (nb_rois,1))),\n",
    "                    'stim_green_surround': list(np.tile(row['cropped_stimulus_green'][1,:], (nb_rois,1))),\n",
    "                    'traces_uv': list(row['cropped_traces_uv']),\n",
    "                    'traces_green': list(row['cropped_traces_green']),\n",
    "                    'Rel. field location y': np.repeat(row['rely'], nb_rois),\n",
    "                    'ipl_depth': row['depth'],\n",
    "                    'quality_values': row['quality_values']\n",
    "                   }\n",
    "    \n",
    "    df = pd.concat([df, pd.DataFrame(current_data, columns = columns)], ignore_index = True)"
   ]
  },
  {
   "cell_type": "markdown",
   "metadata": {},
   "source": [
    "Quality filter ROIs"
   ]
  },
  {
   "cell_type": "code",
   "execution_count": 4,
   "metadata": {},
   "outputs": [
    {
     "name": "stdout",
     "output_type": "stream",
     "text": [
      "0.1051789218557015\n",
      "True\n",
      "15\n"
     ]
    }
   ],
   "source": [
    "threshold = 0.1\n",
    "final_df = df[df['quality_values']>threshold]\n",
    "final_df = final_df.reset_index(drop=True)\n",
    "\n",
    "print(np.amin(final_df['quality_values']))\n",
    "print(len(df) == 3604)\n",
    "print(len(df) - len(final_df))"
   ]
  },
  {
   "cell_type": "markdown",
   "metadata": {},
   "source": [
    "Load Chirp and Local Chirp"
   ]
  },
  {
   "cell_type": "code",
   "execution_count": 5,
   "metadata": {},
   "outputs": [],
   "source": [
    "key_chirp_g = {\n",
    "                'experimenter': 'Franke',\n",
    "                'stim_id': 5,\n",
    "                'preprocess_param_set_id': 1,\n",
    "                'resample_f_id': 3\n",
    "            }\n",
    "global_chirp = pd.DataFrame.from_dict((NormalizedChirp() & \n",
    "                                       key_chirp_g).fetch(as_dict=True))\n",
    "global_chirp = global_chirp.rename(columns={'time_bin': 'time_bin_global_chirp',\n",
    "                                            'normalized_chirp': 'global_chirp'})\n",
    "\n",
    "\n",
    "key_chirp_l = {\n",
    "                'experimenter': 'Franke',\n",
    "                'stim_id': 6,\n",
    "                'preprocess_param_set_id': 1,\n",
    "                'resample_f_id': 3\n",
    "                }\n",
    "local_chirp = pd.DataFrame.from_dict((NormalizedChirp() & \n",
    "                                      key_chirp_l).fetch(as_dict=True))\n",
    "local_chirp = local_chirp.rename(columns={'time_bin': 'time_bin_local_chirp', \n",
    "                                          'normalized_chirp': 'local_chirp'})"
   ]
  },
  {
   "cell_type": "markdown",
   "metadata": {},
   "source": [
    "Drop unnecessary columns"
   ]
  },
  {
   "cell_type": "code",
   "execution_count": 6,
   "metadata": {},
   "outputs": [],
   "source": [
    "drop = ['experimenter', 'stim_id', 'presentation_id', 'preprocess_param_set_id', 'resample_f_id']\n",
    "\n",
    "global_chirp = global_chirp.drop(drop, axis = 1)\n",
    "local_chirp = local_chirp.drop(drop, axis = 1)"
   ]
  },
  {
   "cell_type": "markdown",
   "metadata": {},
   "source": [
    "Merge different dataframes"
   ]
  },
  {
   "cell_type": "code",
   "execution_count": 7,
   "metadata": {},
   "outputs": [],
   "source": [
    "match_on = ['date', 'exp_num', 'field_id', 'roi']\n",
    "\n",
    "interm = final_df.merge(global_chirp, how='inner', on=match_on)\n",
    "all_data = interm.merge(local_chirp, how='inner', on=match_on)\n",
    "\n",
    "assert(len(final_df) == len(all_data))"
   ]
  },
  {
   "cell_type": "markdown",
   "metadata": {},
   "source": [
    "Add batch, mouse, eye to the dataframe"
   ]
  },
  {
   "cell_type": "code",
   "execution_count": 8,
   "metadata": {},
   "outputs": [],
   "source": [
    "grouped_df = all_data.groupby(['date', 'exp_num', 'field_id'])\n",
    "field_ID = -999*np.ones(len(all_data))\n",
    "current_batch = 0\n",
    "for name, group in grouped_df:\n",
    "    group_indices = group.index.to_numpy()\n",
    "    field_ID[group_indices] = current_batch\n",
    "    current_batch = current_batch + 1\n",
    "all_data['field'] = field_ID\n",
    "\n",
    "grouped_df = all_data.groupby(['date', 'exp_num'])\n",
    "eye_ID = -999*np.ones(len(all_data))\n",
    "current_eye = 0\n",
    "for name, group in grouped_df:\n",
    "    group_indices = group.index.to_numpy()\n",
    "    eye_ID[group_indices] = current_eye\n",
    "    current_eye = current_eye + 1\n",
    "all_data['eye'] = eye_ID\n",
    "\n",
    "grouped_df = all_data.groupby(['date'])\n",
    "mouse_ID = -999*np.ones(len(all_data))\n",
    "current_mouse = 0\n",
    "for name, group in grouped_df:\n",
    "    group_indices = group.index.to_numpy()\n",
    "    mouse_ID[group_indices] = current_mouse\n",
    "    current_mouse = current_mouse + 1\n",
    "all_data['mouse'] = mouse_ID"
   ]
  },
  {
   "cell_type": "code",
   "execution_count": 9,
   "metadata": {},
   "outputs": [
    {
     "name": "stdout",
     "output_type": "stream",
     "text": [
      "(21,)\n"
     ]
    }
   ],
   "source": [
    "print(np.unique(all_data['field']).shape)"
   ]
  },
  {
   "cell_type": "markdown",
   "metadata": {},
   "source": [
    "One extra time bin for one ROI"
   ]
  },
  {
   "cell_type": "code",
   "execution_count": 10,
   "metadata": {
    "scrolled": true
   },
   "outputs": [
    {
     "name": "stdout",
     "output_type": "stream",
     "text": [
      "332\n",
      "[ 0.   0.1  0.2  0.3  0.4  0.5  0.6  0.7  0.8  0.9  1.   1.1  1.2  1.3\n",
      "  1.4  1.5  1.6  1.7  1.8  1.9  2.   2.1  2.2  2.3  2.4  2.5  2.6  2.7\n",
      "  2.8  2.9  3.   3.1  3.2  3.3  3.4  3.5  3.6  3.7  3.8  3.9  4.   4.1\n",
      "  4.2  4.3  4.4  4.5  4.6  4.7  4.8  4.9  5.   5.1  5.2  5.3  5.4  5.5\n",
      "  5.6  5.7  5.8  5.9  6.   6.1  6.2  6.3  6.4  6.5  6.6  6.7  6.8  6.9\n",
      "  7.   7.1  7.2  7.3  7.4  7.5  7.6  7.7  7.8  7.9  8.   8.1  8.2  8.3\n",
      "  8.4  8.5  8.6  8.7  8.8  8.9  9.   9.1  9.2  9.3  9.4  9.5  9.6  9.7\n",
      "  9.8  9.9 10.  10.1 10.2 10.3 10.4 10.5 10.6 10.7 10.8 10.9 11.  11.1\n",
      " 11.2 11.3 11.4 11.5 11.6 11.7 11.8 11.9 12.  12.1 12.2 12.3 12.4 12.5\n",
      " 12.6 12.7 12.8 12.9 13.  13.1 13.2 13.3 13.4 13.5 13.6 13.7 13.8 13.9\n",
      " 14.  14.1 14.2 14.3 14.4 14.5 14.6 14.7 14.8 14.9 15.  15.1 15.2 15.3\n",
      " 15.4 15.5 15.6 15.7 15.8 15.9 16.  16.1 16.2 16.3 16.4 16.5 16.6 16.7\n",
      " 16.8 16.9 17.  17.1 17.2 17.3 17.4 17.5 17.6 17.7 17.8 17.9 18.  18.1\n",
      " 18.2 18.3 18.4 18.5 18.6 18.7 18.8 18.9 19.  19.1 19.2 19.3 19.4 19.5\n",
      " 19.6 19.7 19.8 19.9 20.  20.1 20.2 20.3 20.4 20.5 20.6 20.7 20.8 20.9\n",
      " 21.  21.1 21.2 21.3 21.4 21.5 21.6 21.7 21.8 21.9 22.  22.1 22.2 22.3\n",
      " 22.4 22.5 22.6 22.7 22.8 22.9 23.  23.1 23.2 23.3 23.4 23.5 23.6 23.7\n",
      " 23.8 23.9 24.  24.1 24.2 24.3 24.4 24.5 24.6 24.7 24.8 24.9 25.  25.1\n",
      " 25.2 25.3 25.4 25.5 25.6 25.7 25.8 25.9 26.  26.1 26.2 26.3 26.4 26.5\n",
      " 26.6 26.7 26.8 26.9 27.  27.1 27.2 27.3 27.4 27.5 27.6 27.7 27.8 27.9\n",
      " 28.  28.1 28.2 28.3 28.4 28.5 28.6 28.7 28.8 28.9 29.  29.1 29.2 29.3\n",
      " 29.4 29.5 29.6 29.7 29.8 29.9 30.  30.1 30.2 30.3 30.4 30.5 30.6 30.7\n",
      " 30.8 30.9 31.  31.1 31.2 31.3 31.4 31.5 31.6 31.7 31.8 31.9 32.  32.1\n",
      " 32.2 32.3 32.4 32.5 32.6 32.7 32.8 32.9 33.  49.6]\n",
      "331\n"
     ]
    }
   ],
   "source": [
    "print(len(all_data['local_chirp'].iloc[1229]))\n",
    "print(all_data['time_bin_local_chirp'].iloc[1229])\n",
    "all_data.at[1229, 'time_bin_local_chirp'] = all_data['time_bin_local_chirp'].iloc[1229][0:-1]\n",
    "all_data.at[1229, 'local_chirp'] = all_data['local_chirp'].iloc[1229][0:-1]\n",
    "print(len(all_data['local_chirp'].iloc[1229]))"
   ]
  },
  {
   "cell_type": "markdown",
   "metadata": {},
   "source": [
    "Check time bins"
   ]
  },
  {
   "cell_type": "code",
   "execution_count": 11,
   "metadata": {},
   "outputs": [],
   "source": [
    "referenceA = all_data['time_bin_local_chirp'].iloc[0]\n",
    "referenceB = all_data['time_bin_global_chirp'].iloc[0]\n",
    "assert np.all(referenceA == referenceB)\n",
    "\n",
    "for index, row in all_data.iterrows():\n",
    "    assert np.all(referenceA == row['time_bin_local_chirp'])\n",
    "    assert np.all(referenceB == row['time_bin_global_chirp'])"
   ]
  },
  {
   "cell_type": "markdown",
   "metadata": {},
   "source": [
    "Save dataframe"
   ]
  },
  {
   "cell_type": "code",
   "execution_count": 12,
   "metadata": {},
   "outputs": [],
   "source": [
    "#all_data.to_pickle('Data/BCs/Dataframes/control_data.pkl')"
   ]
  }
 ],
 "metadata": {
  "kernelspec": {
   "display_name": "Python 3",
   "language": "python",
   "name": "python3"
  },
  "language_info": {
   "codemirror_mode": {
    "name": "ipython",
    "version": 3
   },
   "file_extension": ".py",
   "mimetype": "text/x-python",
   "name": "python",
   "nbconvert_exporter": "python",
   "pygments_lexer": "ipython3",
   "version": "3.7.5"
  },
  "varInspector": {
   "cols": {
    "lenName": 16,
    "lenType": 16,
    "lenVar": 40
   },
   "kernels_config": {
    "python": {
     "delete_cmd_postfix": "",
     "delete_cmd_prefix": "del ",
     "library": "var_list.py",
     "varRefreshCmd": "print(var_dic_list())"
    },
    "r": {
     "delete_cmd_postfix": ") ",
     "delete_cmd_prefix": "rm(",
     "library": "var_list.r",
     "varRefreshCmd": "cat(var_dic_list()) "
    }
   },
   "types_to_exclude": [
    "module",
    "function",
    "builtin_function_or_method",
    "instance",
    "_Feature"
   ],
   "window_display": false
  }
 },
 "nbformat": 4,
 "nbformat_minor": 4
}
