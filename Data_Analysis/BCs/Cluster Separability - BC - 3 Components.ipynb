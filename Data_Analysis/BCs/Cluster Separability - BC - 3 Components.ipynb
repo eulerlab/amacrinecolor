{
 "cells": [
  {
   "cell_type": "code",
   "execution_count": 1,
   "metadata": {},
   "outputs": [],
   "source": [
    "from clustering_utils import *\n",
    "import matplotlib.pyplot as plt\n",
    "from sklearn.metrics import confusion_matrix"
   ]
  },
  {
   "cell_type": "markdown",
   "metadata": {},
   "source": [
    "Load data"
   ]
  },
  {
   "cell_type": "code",
   "execution_count": 2,
   "metadata": {},
   "outputs": [],
   "source": [
    "X = pd.read_pickle('Data/BCs/Dataframes/control_data_features.pkl')"
   ]
  },
  {
   "cell_type": "markdown",
   "metadata": {},
   "source": [
    "Kernels"
   ]
  },
  {
   "cell_type": "code",
   "execution_count": 3,
   "metadata": {},
   "outputs": [
    {
     "data": {
      "image/png": "[encoded data removed]",
      "text/plain": [
       "<Figure size 720x216 with 4 Axes>"
      ]
     },
     "metadata": {
      "needs_background": "light"
     },
     "output_type": "display_data"
    }
   ],
   "source": [
    "data = np.vstack(X['pca features color - 3 components'].to_numpy())\n",
    "scaledData = np.zeros_like(data)\n",
    "\n",
    "# Feature scaling: Mean = 0 and STD = 1 for each feature\n",
    "for current_index in range(data.shape[1]):\n",
    "    current_feature = data[:,current_index]\n",
    "    scaledData[:,current_index] = (current_feature - np.mean(current_feature))/np.std(current_feature)\n",
    "    \n",
    "plt.figure(figsize=(10,3))\n",
    "plt.subplot(1,2,1)\n",
    "plt.imshow(data, aspect = 'auto', cmap = 'binary_r', interpolation = 'None')\n",
    "plt.ylabel('Roi')\n",
    "plt.xlabel('Feature')\n",
    "plt.colorbar()\n",
    "\n",
    "plt.subplot(1,2,2)\n",
    "plt.imshow(scaledData, aspect = 'auto', cmap = 'binary_r', interpolation = 'None')\n",
    "plt.ylabel('Roi')\n",
    "plt.xlabel('Feature')\n",
    "plt.colorbar()\n",
    "plt.show()"
   ]
  },
  {
   "cell_type": "markdown",
   "metadata": {},
   "source": [
    "Run GMM"
   ]
  },
  {
   "cell_type": "code",
   "execution_count": 4,
   "metadata": {},
   "outputs": [],
   "source": [
    "replicate = 18\n",
    "covariance_type = 'full'\n",
    "nb_of_components = 24\n",
    "max_iterations = 1000\n",
    "\n",
    "columns = ['Seed', 'Covariance type', 'Nb components', 'Max iterations', 'BIC', 'Score', 'Predictions']\n",
    "gmm_results = pd.DataFrame(columns = columns)\n",
    "\n",
    "gmm = GaussianMixture(n_components=nb_of_components,\n",
    "                      covariance_type=covariance_type,\n",
    "                      max_iter=max_iterations,                                     \n",
    "                      random_state=replicate)\n",
    "\n",
    "labels = gmm.fit_predict(scaledData)\n",
    "BIC = gmm.bic(scaledData)\n",
    "score = gmm.score(scaledData)\n",
    "\n",
    "current_data = {'Seed': replicate,\n",
    "                'Covariance type': covariance_type,\n",
    "                'Nb components': nb_of_components,\n",
    "                'Max iterations': max_iterations,\n",
    "                'BIC': BIC,\n",
    "                'Score': score,\n",
    "                'Predictions': labels}\n",
    "\n",
    "gmm_results = pd.concat([gmm_results, pd.DataFrame([current_data], columns=columns)],\n",
    "                        ignore_index=True)"
   ]
  },
  {
   "cell_type": "code",
   "execution_count": 5,
   "metadata": {},
   "outputs": [
    {
     "data": {
      "text/html": [
       "<div>\n",
       "<style scoped>\n",
       "    .dataframe tbody tr th:only-of-type {\n",
       "        vertical-align: middle;\n",
       "    }\n",
       "\n",
       "    .dataframe tbody tr th {\n",
       "        vertical-align: top;\n",
       "    }\n",
       "\n",
       "    .dataframe thead th {\n",
       "        text-align: right;\n",
       "    }\n",
       "</style>\n",
       "<table border=\"1\" class=\"dataframe\">\n",
       "  <thead>\n",
       "    <tr style=\"text-align: right;\">\n",
       "      <th></th>\n",
       "      <th>Seed</th>\n",
       "      <th>Covariance type</th>\n",
       "      <th>Nb components</th>\n",
       "      <th>Max iterations</th>\n",
       "      <th>BIC</th>\n",
       "      <th>Score</th>\n",
       "      <th>Predictions</th>\n",
       "    </tr>\n",
       "  </thead>\n",
       "  <tbody>\n",
       "    <tr>\n",
       "      <th>0</th>\n",
       "      <td>18</td>\n",
       "      <td>full</td>\n",
       "      <td>24</td>\n",
       "      <td>1000</td>\n",
       "      <td>60092.929537</td>\n",
       "      <td>-5.882377</td>\n",
       "      <td>[5, 19, 3, 5, 3, 5, 19, 5, 19, 5, 19, 5, 19, 5...</td>\n",
       "    </tr>\n",
       "  </tbody>\n",
       "</table>\n",
       "</div>"
      ],
      "text/plain": [
       "  Seed Covariance type Nb components Max iterations           BIC     Score  \\\n",
       "0   18            full            24           1000  60092.929537 -5.882377   \n",
       "\n",
       "                                         Predictions  \n",
       "0  [5, 19, 3, 5, 3, 5, 19, 5, 19, 5, 19, 5, 19, 5...  "
      ]
     },
     "execution_count": 5,
     "metadata": {},
     "output_type": "execute_result"
    }
   ],
   "source": [
    "gmm_results"
   ]
  },
  {
   "cell_type": "markdown",
   "metadata": {},
   "source": [
    "Sample from GMM and predict labels"
   ]
  },
  {
   "cell_type": "code",
   "execution_count": 6,
   "metadata": {},
   "outputs": [],
   "source": [
    "sampledData, trueLabels = gmm.sample(10000)\n",
    "predictedLabels = gmm.predict(sampledData)\n",
    "assert len(trueLabels) == len(predictedLabels)"
   ]
  },
  {
   "cell_type": "code",
   "execution_count": 7,
   "metadata": {},
   "outputs": [],
   "source": [
    "trueLabels_df = pd.DataFrame()\n",
    "trueLabels_df['cluster ID (full)'] = trueLabels\n",
    "\n",
    "predictedLabels_df = pd.DataFrame()\n",
    "predictedLabels_df['cluster ID (full)'] = predictedLabels"
   ]
  },
  {
   "cell_type": "markdown",
   "metadata": {},
   "source": [
    "Permute labels"
   ]
  },
  {
   "cell_type": "code",
   "execution_count": 8,
   "metadata": {
    "code_folding": []
   },
   "outputs": [],
   "source": [
    "def permute_clusterIDs_wControl(dataframe, clustering_name, control_df):\n",
    "    \n",
    "    cluster_IDs = dataframe[clustering_name].to_numpy()\n",
    "    cluster_IDs_control = control_df[clustering_name].to_numpy()\n",
    "    assert np.amin(cluster_IDs) == 0\n",
    "    nb_clusters = np.unique(cluster_IDs).shape[0]\n",
    "    IPL_depth = dataframe['ipl_depth'].to_numpy()\n",
    "    \n",
    "    cluster_locations = np.zeros(nb_clusters)\n",
    "    for current_cluster in range(nb_clusters):\n",
    "        clusterMask = np.where(cluster_IDs == current_cluster)[0]\n",
    "        cluster_locations[current_cluster] = np.median(IPL_depth[clusterMask])\n",
    "    \n",
    "    new_cluster_IDs = 100*np.ones(len(dataframe))\n",
    "    new_cluster_IDs_control = 100*np.ones(len(control_df))\n",
    "    for new_ID, old_ID in enumerate(np.argsort(cluster_locations)):\n",
    "        new_cluster_IDs[np.where(cluster_IDs == old_ID)[0]] = int(new_ID)\n",
    "        new_cluster_IDs_control[np.where(cluster_IDs_control == old_ID)[0]] = int(new_ID)\n",
    "    \n",
    "    return new_cluster_IDs, new_cluster_IDs_control"
   ]
  },
  {
   "cell_type": "code",
   "execution_count": 9,
   "metadata": {},
   "outputs": [],
   "source": [
    "df = pd.read_pickle('Data/BCs/Dataframes/control_data_features.pkl')\n",
    "df_labels = pd.read_pickle('Data/BCs/Dataframes/control_data_gmm_pcaColor_3Components_labels.pkl')\n",
    "df['cluster ID (full)'] = gmm_results['Predictions'].to_numpy()[0]\n",
    "\n",
    "original_labels_new, trueLabels_new = permute_clusterIDs_wControl(df, 'cluster ID (full)', trueLabels_df)\n",
    "_, predictedLabels_new = permute_clusterIDs_wControl(df, 'cluster ID (full)', predictedLabels_df)\n",
    "\n",
    "assert np.all(original_labels_new == df_labels['cluster ID (full)'].to_numpy())"
   ]
  },
  {
   "cell_type": "markdown",
   "metadata": {},
   "source": [
    "Calculate confusion matrix and accuracy"
   ]
  },
  {
   "cell_type": "code",
   "execution_count": 10,
   "metadata": {
    "scrolled": true
   },
   "outputs": [
    {
     "name": "stdout",
     "output_type": "stream",
     "text": [
      "[0.9969 0.9977 0.9984 0.9989 0.9989 1.     0.9994 0.9994 0.9991 0.9996\n",
      " 0.9978 0.9982 0.9996 0.9997 0.9992 1.     0.9985 1.     1.     0.999\n",
      " 1.     0.9998 0.9999 0.9988]\n"
     ]
    }
   ],
   "source": [
    "conf_matrix = confusion_matrix(trueLabels_new, predictedLabels_new)\n",
    "\n",
    "TP = np.diag(conf_matrix)\n",
    "FP = conf_matrix.sum(axis = 0) - np.diag(conf_matrix)\n",
    "FN = conf_matrix.sum(axis = 1) - np.diag(conf_matrix)\n",
    "TN = conf_matrix.sum() - TP - FP - FN\n",
    "\n",
    "ACC = (TP + TN)/(TP + TN + FP + FN)\n",
    "print(ACC)"
   ]
  },
  {
   "cell_type": "code",
   "execution_count": 11,
   "metadata": {},
   "outputs": [
    {
     "data": {
      "image/png": "[encoded data removed]",
      "text/plain": [
       "<Figure size 432x288 with 1 Axes>"
      ]
     },
     "metadata": {
      "needs_background": "light"
     },
     "output_type": "display_data"
    }
   ],
   "source": [
    "plt.plot(ACC, '.')\n",
    "plt.ylabel('Accuracy')\n",
    "plt.xlabel('Cluster')\n",
    "plt.ylim([0.8,1.01])\n",
    "plt.yticks([0.8,0.9,1])\n",
    "plt.show()"
   ]
  },
  {
   "cell_type": "code",
   "execution_count": 12,
   "metadata": {},
   "outputs": [
    {
     "name": "stdout",
     "output_type": "stream",
     "text": [
      "0.9969\n"
     ]
    }
   ],
   "source": [
    "print(np.amin(ACC))"
   ]
  }
 ],
 "metadata": {
  "kernelspec": {
   "display_name": "Python 3",
   "language": "python",
   "name": "python3"
  },
  "language_info": {
   "codemirror_mode": {
    "name": "ipython",
    "version": 3
   },
   "file_extension": ".py",
   "mimetype": "text/x-python",
   "name": "python",
   "nbconvert_exporter": "python",
   "pygments_lexer": "ipython3",
   "version": "3.7.5"
  },
  "varInspector": {
   "cols": {
    "lenName": 16,
    "lenType": 16,
    "lenVar": 40
   },
   "kernels_config": {
    "python": {
     "delete_cmd_postfix": "",
     "delete_cmd_prefix": "del ",
     "library": "var_list.py",
     "varRefreshCmd": "print(var_dic_list())"
    },
    "r": {
     "delete_cmd_postfix": ") ",
     "delete_cmd_prefix": "rm(",
     "library": "var_list.r",
     "varRefreshCmd": "cat(var_dic_list()) "
    }
   },
   "types_to_exclude": [
    "module",
    "function",
    "builtin_function_or_method",
    "instance",
    "_Feature"
   ],
   "window_display": false
  }
 },
 "nbformat": 4,
 "nbformat_minor": 4
}
