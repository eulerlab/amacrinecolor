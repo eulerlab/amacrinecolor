{
 "cells": [
  {
   "cell_type": "code",
   "execution_count": 1,
   "metadata": {},
   "outputs": [
    {
     "name": "stdout",
     "output_type": "stream",
     "text": [
      "Connecting sstrauss@172.25.240.205:3306\n"
     ]
    }
   ],
   "source": [
    "from amacrine_color_schema import *"
   ]
  },
  {
   "cell_type": "markdown",
   "metadata": {},
   "source": [
    "Load kernels"
   ]
  },
  {
   "cell_type": "code",
   "execution_count": 2,
   "metadata": {
    "code_folding": []
   },
   "outputs": [],
   "source": [
    "key_kernel = {\n",
    "                'experimenter': 'Korympidou',\n",
    "                'artefact_kernel_id': 1,\n",
    "                'preprocess_param_set_id': 1,\n",
    "                'stim_id': 15,\n",
    "                'noise_id': 1,\n",
    "                'param_id': 1\n",
    "            }\n",
    "\n",
    "kernels = pd.DataFrame.from_dict(((CorrectedBGFlickerKernels() - \n",
    "                                   [Pharmacology() & 'control_flag = 0' & 'treatment != \"control\"'] - \n",
    "                                   [Indicator() & 'virustransprotein = \"GCaMP8f\"']) *\n",
    "                                  BGFullResponses() *\n",
    "                                  IplDepth() *\n",
    "                                  RelativeFieldLocation() *\n",
    "                                  QualityLocation() *\n",
    "                                  MinMaxQuality() &\n",
    "                                  key_kernel).fetch(as_dict=True))"
   ]
  },
  {
   "cell_type": "markdown",
   "metadata": {},
   "source": [
    "Unravel dataframe so that each row is one ROI"
   ]
  },
  {
   "cell_type": "code",
   "execution_count": 3,
   "metadata": {
    "code_folding": []
   },
   "outputs": [],
   "source": [
    "columns = ['date', 'exp_num', 'field_id', 'roi', \n",
    "           'uv_center', 'uv_ring', 'uv_surround', \n",
    "           'green_center', 'green_ring', 'green_surround', \n",
    "           'ipl_depth', 'quality_values', \n",
    "           'Rel. field location y', 'quality_location',\n",
    "           'response_trace_flicker']\n",
    "df = pd.DataFrame(columns=columns)\n",
    "\n",
    "for index, row in kernels.iterrows():\n",
    "    \n",
    "    nb_rois = row['st_kernels_uv_corrected'].shape[1]\n",
    "\n",
    "    current_data = {'date': np.repeat(row['date'], nb_rois), \n",
    "                    'exp_num': np.repeat(row['exp_num'], nb_rois), \n",
    "                    'field_id': np.repeat(row['field_id'], nb_rois), \n",
    "                    'roi': np.arange(1,nb_rois+1),\n",
    "                    'uv_center': list(row['st_kernels_uv_corrected'][:,:,0].T),\n",
    "                    'uv_ring': list(row['st_kernels_uv_corrected'][:,:,1].T), \n",
    "                    'uv_surround':  list(row['st_kernels_uv_corrected'][:,:,2].T),\n",
    "                    'green_center':  list(row['st_kernels_green_corrected'][:,:,0].T), \n",
    "                    'green_ring':  list(row['st_kernels_green_corrected'][:,:,1].T), \n",
    "                    'green_surround':  list(row['st_kernels_green_corrected'][:,:,2].T),\n",
    "                    'ipl_depth': row['depth'], \n",
    "                    'quality_values': row['quality_values'],\n",
    "                    'Rel. field location y': np.repeat(row['rely'], nb_rois),\n",
    "                    'quality_location': np.repeat(row['quality_location'], nb_rois),\n",
    "                    'response_trace_flicker': list(row['full_response_traces'])\n",
    "                   }\n",
    "    \n",
    "    df = pd.concat([df, pd.DataFrame(current_data, columns = columns)], ignore_index = True)"
   ]
  },
  {
   "cell_type": "markdown",
   "metadata": {},
   "source": [
    "Quality of optic disk recording"
   ]
  },
  {
   "cell_type": "code",
   "execution_count": 4,
   "metadata": {},
   "outputs": [
    {
     "name": "stdout",
     "output_type": "stream",
     "text": [
      "['dorsal' 'ventral']\n",
      "['dorsal' 'no_info' 'ventral']\n"
     ]
    }
   ],
   "source": [
    "new_column = np.repeat('aaaaaaaaaa', len(df))\n",
    "loc = df['Rel. field location y'].to_numpy()\n",
    "new_column[np.where(loc < 0)[0]] = 'ventral'\n",
    "new_column[np.where(loc > 0)[0]] = 'dorsal'\n",
    "print(np.unique(new_column))\n",
    "quality_rois = df['quality_location'].to_numpy()\n",
    "new_column[np.where(quality_rois == 0)[0]] = 'no_info'\n",
    "print(np.unique(new_column))\n",
    "df['y_retinal_location'] = new_column\n",
    "\n",
    "assert np.all(df['y_retinal_location'][df['quality_location'] == 0] == 'no_info')\n",
    "assert np.all(df['y_retinal_location'][df['quality_location'] != 0] != 'no_info')"
   ]
  },
  {
   "cell_type": "markdown",
   "metadata": {},
   "source": [
    "Filter ROIs by ipl depth"
   ]
  },
  {
   "cell_type": "code",
   "execution_count": 5,
   "metadata": {},
   "outputs": [
    {
     "name": "stdout",
     "output_type": "stream",
     "text": [
      "0.9998798\n",
      "9.918213e-05\n"
     ]
    }
   ],
   "source": [
    "ipl_rois = df[(df['ipl_depth'] < 1) & (df['ipl_depth'] > 0)]\n",
    "ipl_rois = ipl_rois.reset_index(drop=True)\n",
    "\n",
    "print(np.amax(ipl_rois['ipl_depth']))\n",
    "print(np.amin(ipl_rois['ipl_depth']))"
   ]
  },
  {
   "cell_type": "markdown",
   "metadata": {},
   "source": [
    "Quality filter ROIs"
   ]
  },
  {
   "cell_type": "code",
   "execution_count": 6,
   "metadata": {},
   "outputs": [
    {
     "name": "stdout",
     "output_type": "stream",
     "text": [
      "0.10001667453491629\n"
     ]
    }
   ],
   "source": [
    "final_df = ipl_rois[ipl_rois['quality_values']>0.1]\n",
    "final_df = final_df.reset_index(drop=True)\n",
    "\n",
    "print(np.amin(final_df['quality_values']))"
   ]
  },
  {
   "cell_type": "markdown",
   "metadata": {},
   "source": [
    "Load Chirp and Local Chirp"
   ]
  },
  {
   "cell_type": "code",
   "execution_count": 7,
   "metadata": {},
   "outputs": [],
   "source": [
    "key_chirp_g = {\n",
    "                'experimenter': 'Korympidou',\n",
    "                'stim_id': 5,\n",
    "                'preprocess_param_set_id': 1,\n",
    "                'resample_f_id': 3\n",
    "            }\n",
    "global_chirp = pd.DataFrame.from_dict(((NormalizedChirp() - \n",
    "                                        [Pharmacology() & 'control_flag = 0' & 'treatment != \"control\"'] - \n",
    "                                        [Indicator() & 'virustransprotein = \"GCaMP8f\"']) & \n",
    "                                       key_chirp_g).fetch(as_dict=True))\n",
    "global_chirp = global_chirp.rename(columns={'time_bin': 'time_bin_global_chirp',\n",
    "                                            'normalized_chirp': 'global_chirp'})\n",
    "\n",
    "\n",
    "key_chirp_l = {\n",
    "                'experimenter': 'Korympidou',\n",
    "                'stim_id': 6,\n",
    "                'preprocess_param_set_id': 1,\n",
    "                'resample_f_id': 3\n",
    "                }\n",
    "local_chirp = pd.DataFrame.from_dict(((NormalizedChirp() - \n",
    "                                       [Pharmacology() & 'control_flag = 0' & 'treatment != \"control\"'] - \n",
    "                                       [Indicator() & 'virustransprotein = \"GCaMP8f\"']) & \n",
    "                                      key_chirp_l).fetch(as_dict=True))\n",
    "local_chirp = local_chirp.rename(columns={'time_bin': 'time_bin_local_chirp', \n",
    "                                          'normalized_chirp': 'local_chirp'})"
   ]
  },
  {
   "cell_type": "markdown",
   "metadata": {},
   "source": [
    "Drop unnecessary columns"
   ]
  },
  {
   "cell_type": "code",
   "execution_count": 8,
   "metadata": {},
   "outputs": [],
   "source": [
    "drop = ['experimenter', 'stim_id', 'presentation_id', 'preprocess_param_set_id', 'resample_f_id']\n",
    "\n",
    "global_chirp = global_chirp.drop(drop, axis = 1)\n",
    "local_chirp = local_chirp.drop(drop, axis = 1)"
   ]
  },
  {
   "cell_type": "markdown",
   "metadata": {},
   "source": [
    "Merge different dataframes"
   ]
  },
  {
   "cell_type": "code",
   "execution_count": 9,
   "metadata": {},
   "outputs": [],
   "source": [
    "match_on = ['date', 'exp_num', 'field_id', 'roi']\n",
    "\n",
    "interm = final_df.merge(global_chirp, how='inner', on=match_on)\n",
    "all_data = interm.merge(local_chirp, how='inner', on=match_on)"
   ]
  },
  {
   "cell_type": "markdown",
   "metadata": {},
   "source": [
    "Check time bins"
   ]
  },
  {
   "cell_type": "code",
   "execution_count": 10,
   "metadata": {},
   "outputs": [],
   "source": [
    "referenceA = all_data['time_bin_local_chirp'].iloc[0]\n",
    "referenceB = all_data['time_bin_global_chirp'].iloc[0]\n",
    "assert np.all(referenceA == referenceB)\n",
    "\n",
    "for index, row in all_data.iterrows():\n",
    "    assert np.all(referenceA == row['time_bin_local_chirp'])\n",
    "    assert np.all(referenceB == row['time_bin_global_chirp'])"
   ]
  },
  {
   "cell_type": "markdown",
   "metadata": {},
   "source": [
    "Add batch, mouse, eye to the dataframe"
   ]
  },
  {
   "cell_type": "code",
   "execution_count": 11,
   "metadata": {},
   "outputs": [],
   "source": [
    "grouped_df = all_data.groupby(['date', 'exp_num', 'field_id'])\n",
    "field_ID = -999*np.ones(len(all_data))\n",
    "current_batch = 0\n",
    "for name, group in grouped_df:\n",
    "    group_indices = group.index.to_numpy()\n",
    "    field_ID[group_indices] = current_batch\n",
    "    current_batch = current_batch + 1\n",
    "all_data['field'] = field_ID\n",
    "\n",
    "grouped_df = all_data.groupby(['date', 'exp_num'])\n",
    "eye_ID = -999*np.ones(len(all_data))\n",
    "current_eye = 0\n",
    "for name, group in grouped_df:\n",
    "    group_indices = group.index.to_numpy()\n",
    "    eye_ID[group_indices] = current_eye\n",
    "    current_eye = current_eye + 1\n",
    "all_data['eye'] = eye_ID\n",
    "\n",
    "grouped_df = all_data.groupby(['date'])\n",
    "mouse_ID = -999*np.ones(len(all_data))\n",
    "current_mouse = 0\n",
    "for name, group in grouped_df:\n",
    "    group_indices = group.index.to_numpy()\n",
    "    mouse_ID[group_indices] = current_mouse\n",
    "    current_mouse = current_mouse + 1\n",
    "all_data['mouse'] = mouse_ID"
   ]
  },
  {
   "cell_type": "code",
   "execution_count": 12,
   "metadata": {},
   "outputs": [
    {
     "name": "stdout",
     "output_type": "stream",
     "text": [
      "(79,)\n",
      "[datetime.date(2021, 6, 29) datetime.date(2021, 7, 7)\n",
      " datetime.date(2021, 7, 9) datetime.date(2021, 10, 19)\n",
      " datetime.date(2021, 10, 21) datetime.date(2022, 1, 21)\n",
      " datetime.date(2022, 1, 28) datetime.date(2022, 1, 31)\n",
      " datetime.date(2022, 2, 2) datetime.date(2022, 4, 8)\n",
      " datetime.date(2022, 4, 13) datetime.date(2022, 4, 14)\n",
      " datetime.date(2022, 5, 9) datetime.date(2022, 5, 11)\n",
      " datetime.date(2022, 5, 13) datetime.date(2022, 5, 18)\n",
      " datetime.date(2022, 5, 19)]\n"
     ]
    }
   ],
   "source": [
    "print(np.unique(all_data['field']).shape)\n",
    "print(np.unique(all_data['date']))"
   ]
  },
  {
   "cell_type": "markdown",
   "metadata": {},
   "source": [
    "Save dataframe"
   ]
  },
  {
   "cell_type": "code",
   "execution_count": 13,
   "metadata": {},
   "outputs": [],
   "source": [
    "#all_data.to_pickle('Data/ACs/Dataframes/control_data_full.pkl')"
   ]
  },
  {
   "cell_type": "code",
   "execution_count": null,
   "metadata": {},
   "outputs": [],
   "source": []
  }
 ],
 "metadata": {
  "kernelspec": {
   "display_name": "Python 3",
   "language": "python",
   "name": "python3"
  },
  "language_info": {
   "codemirror_mode": {
    "name": "ipython",
    "version": 3
   },
   "file_extension": ".py",
   "mimetype": "text/x-python",
   "name": "python",
   "nbconvert_exporter": "python",
   "pygments_lexer": "ipython3",
   "version": "3.7.5"
  },
  "varInspector": {
   "cols": {
    "lenName": 16,
    "lenType": 16,
    "lenVar": 40
   },
   "kernels_config": {
    "python": {
     "delete_cmd_postfix": "",
     "delete_cmd_prefix": "del ",
     "library": "var_list.py",
     "varRefreshCmd": "print(var_dic_list())"
    },
    "r": {
     "delete_cmd_postfix": ") ",
     "delete_cmd_prefix": "rm(",
     "library": "var_list.r",
     "varRefreshCmd": "cat(var_dic_list()) "
    }
   },
   "types_to_exclude": [
    "module",
    "function",
    "builtin_function_or_method",
    "instance",
    "_Feature"
   ],
   "window_display": false
  }
 },
 "nbformat": 4,
 "nbformat_minor": 4
}
