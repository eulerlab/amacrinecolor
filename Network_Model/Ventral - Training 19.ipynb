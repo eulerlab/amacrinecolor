{
 "cells": [
  {
   "cell_type": "code",
   "execution_count": 1,
   "metadata": {},
   "outputs": [],
   "source": [
    "from training_4Stim import *\n",
    "from scipy import stats\n",
    "import pandas as pd"
   ]
  },
  {
   "cell_type": "markdown",
   "metadata": {},
   "source": [
    "Load data"
   ]
  },
  {
   "cell_type": "code",
   "execution_count": 2,
   "metadata": {
    "code_folding": [
     0
    ]
   },
   "outputs": [
    {
     "name": "stdout",
     "output_type": "stream",
     "text": [
      "Nb of BCs\n",
      "13\n"
     ]
    }
   ],
   "source": [
    "# BIPOLAR CELLS\n",
    "loc = np.load('Model Input Normalised - BCs/bc_cluster_locations.npy')\n",
    "ventral_bcs = np.where(loc == 'ventral')[0]\n",
    "print('Nb of BCs')\n",
    "print(len(ventral_bcs))\n",
    "types_uv_center = np.load('Model Input Normalised - BCs/types_uv_center.npy')[ventral_bcs]\n",
    "types_uv_surround = np.load('Model Input Normalised - BCs/types_uv_surround.npy')[ventral_bcs]\n",
    "types_green_center = np.load('Model Input Normalised - BCs/types_green_center.npy')[ventral_bcs]\n",
    "types_green_surround = np.load('Model Input Normalised - BCs/types_green_surround.npy')[ventral_bcs]\n",
    "\n",
    "types = np.column_stack((types_uv_center, types_uv_surround, types_uv_surround,\n",
    "                         types_green_center, types_green_surround, types_green_surround))\n",
    "\n",
    "flicker_stim_uv = np.load('Model Input Normalised - BCs/uv_flicker_64Hz.npy')\n",
    "flicker_stim_green = np.load('Model Input Normalised - BCs/green_flicker_64Hz.npy')\n",
    "bcs_response_uv = np.load('Model Input Normalised - BCs/uv_avrg_resp_64Hz_norm.npy')[ventral_bcs].astype(np.float32)\n",
    "bcs_response_green = np.load('Model Input Normalised - BCs/green_avrg_resp_64Hz_norm.npy')[ventral_bcs].astype(np.float32)\n",
    "\n",
    "# Order: uv center, uv ring, uv surround, green center, green ring, green surround\n",
    "bcs_uv_flicker = np.column_stack((flicker_stim_uv[:,0], \n",
    "                                  flicker_stim_uv[:,1],\n",
    "                                  flicker_stim_uv[:,1],\n",
    "                                  np.zeros(len(flicker_stim_uv[:,0])),\n",
    "                                  np.zeros(len(flicker_stim_uv[:,0])),\n",
    "                                  np.zeros(len(flicker_stim_uv[:,0])))).astype(np.float32)\n",
    "\n",
    "bcs_green_flicker = np.column_stack((np.zeros(len(flicker_stim_green[:,0])),\n",
    "                                     np.zeros(len(flicker_stim_green[:,0])),\n",
    "                                     np.zeros(len(flicker_stim_green[:,0])),\n",
    "                                     flicker_stim_green[:,0],\n",
    "                                     flicker_stim_green[:,1],\n",
    "                                     flicker_stim_green[:,1])).astype(np.float32)\n",
    "\n",
    "chirp_stim = np.load('Model Input Normalised - BCs/chirp_stim_64Hz.npy')\n",
    "bcs_response_chirp = np.load('Model Input Normalised - BCs/global_chirp_avrg_resp_64Hz_norm.npy')[ventral_bcs].astype(np.float32)\n",
    "bcs_response_local_chirp = np.load('Model Input Normalised - BCs/local_chirp_avrg_resp_64Hz_norm.npy')[ventral_bcs].astype(np.float32)\n",
    "\n",
    "# Order: uv center, uv ring, uv surround, green center, green ring, green surround\n",
    "chirp_stim_full = np.column_stack((chirp_stim,\n",
    "                                   chirp_stim,\n",
    "                                   chirp_stim,\n",
    "                                   chirp_stim, \n",
    "                                   chirp_stim, \n",
    "                                   chirp_stim)).astype(np.float32)\n",
    "\n",
    "local_chirp_stim_full = np.column_stack((chirp_stim, \n",
    "                                         np.zeros(len(chirp_stim)),\n",
    "                                         np.zeros(len(chirp_stim)),\n",
    "                                         chirp_stim, \n",
    "                                         np.zeros(len(chirp_stim)),\n",
    "                                         np.zeros(len(chirp_stim)))).astype(np.float32)\n",
    "\n",
    "# AMACRINE CELLS\n",
    "acs_response_chirp = np.load('Model Input Normalised - ACs/global_chirp_avrg_resp_64Hz_norm.npy').astype(np.float32)\n",
    "acs_response_local_chirp = np.load('Model Input Normalised - ACs/local_chirp_avrg_resp_64Hz_norm.npy').astype(np.float32)\n",
    "\n",
    "acs_flicker_stim_uv_1 = np.load('Model Input Normalised - ACs/uv_1_flicker_64Hz.npy')\n",
    "acs_flicker_stim_uv_2 = np.load('Model Input Normalised - ACs/uv_2_flicker_64Hz.npy')\n",
    "acs_flicker_stim_green_1 = np.load('Model Input Normalised - ACs/green_1_flicker_64Hz.npy')\n",
    "acs_flicker_stim_green_2 = np.load('Model Input Normalised - ACs/green_2_flicker_64Hz.npy')\n",
    "\n",
    "acs_response_uv_1 = np.load('Model Input Normalised - ACs/uv_1_avrg_resp_64Hz_norm.npy').astype(np.float32)\n",
    "acs_response_uv_2 = np.load('Model Input Normalised - ACs/uv_2_avrg_resp_64Hz_norm.npy').astype(np.float32)\n",
    "acs_response_green_1 = np.load('Model Input Normalised - ACs/green_1_avrg_resp_64Hz_norm.npy').astype(np.float32)\n",
    "acs_response_green_2 = np.load('Model Input Normalised - ACs/green_2_avrg_resp_64Hz_norm.npy').astype(np.float32)\n",
    "\n",
    "\n",
    "# Order: uv center, uv ring, uv surround, green center, green ring, green surround\n",
    "acs_uv_flicker_1 = np.column_stack((acs_flicker_stim_uv_1[:,0], \n",
    "                                    acs_flicker_stim_uv_1[:,1],\n",
    "                                    acs_flicker_stim_uv_1[:,2],\n",
    "                                    np.zeros(len(acs_flicker_stim_uv_1[:,0])),\n",
    "                                    np.zeros(len(acs_flicker_stim_uv_1[:,0])),\n",
    "                                    np.zeros(len(acs_flicker_stim_uv_1[:,0])))).astype(np.float32)\n",
    "\n",
    "acs_uv_flicker_2 = np.column_stack((acs_flicker_stim_uv_2[:,0], \n",
    "                                    acs_flicker_stim_uv_2[:,1],\n",
    "                                    acs_flicker_stim_uv_2[:,2],\n",
    "                                    np.zeros(len(acs_flicker_stim_uv_2[:,0])),\n",
    "                                    np.zeros(len(acs_flicker_stim_uv_2[:,0])),\n",
    "                                    np.zeros(len(acs_flicker_stim_uv_2[:,0])))).astype(np.float32)\n",
    "\n",
    "acs_green_flicker_1 = np.column_stack((np.zeros(len(acs_flicker_stim_green_1[:,0])),\n",
    "                                       np.zeros(len(acs_flicker_stim_green_1[:,0])),\n",
    "                                       np.zeros(len(acs_flicker_stim_green_1[:,0])),\n",
    "                                       acs_flicker_stim_green_1[:,0], \n",
    "                                       acs_flicker_stim_green_1[:,1],\n",
    "                                       acs_flicker_stim_green_1[:,2])).astype(np.float32)\n",
    "\n",
    "acs_green_flicker_2 = np.column_stack((np.zeros(len(acs_flicker_stim_green_2[:,0])),\n",
    "                                       np.zeros(len(acs_flicker_stim_green_2[:,0])),\n",
    "                                       np.zeros(len(acs_flicker_stim_green_2[:,0])),\n",
    "                                       acs_flicker_stim_green_2[:,0], \n",
    "                                       acs_flicker_stim_green_2[:,1],\n",
    "                                       acs_flicker_stim_green_2[:,2])).astype(np.float32)\n",
    "\n",
    "penalty_matrix = np.exp((np.load('ipl_penalty.npy')[:,ventral_bcs])-1)\n",
    "penalty_matrix_acs = np.exp(np.load('ipl_penalty_ac_ac.npy')-1)\n",
    "penalty_matrix[penalty_matrix>1] = 50\n",
    "penalty_matrix_acs[penalty_matrix_acs>1] = 50"
   ]
  },
  {
   "cell_type": "markdown",
   "metadata": {},
   "source": [
    "Training"
   ]
  },
  {
   "cell_type": "code",
   "execution_count": 3,
   "metadata": {
    "code_folding": [],
    "scrolled": true
   },
   "outputs": [
    {
     "name": "stdout",
     "output_type": "stream",
     "text": [
      "0\n",
      "100\n",
      "200\n"
     ]
    },
    {
     "data": {
      "image/png": "[encoded data removed]",
      "text/plain": [
       "<Figure size 432x288 with 1 Axes>"
      ]
     },
     "metadata": {
      "needs_background": "light"
     },
     "output_type": "display_data"
    }
   ],
   "source": [
    "# Create model\n",
    "model = FullBCModel(cell_types = types,\n",
    "                    num_pr = 6,\n",
    "                    steady_state_steps=10,\n",
    "                    ip_steady=np.ones(13),\n",
    "                    rrp_steady=np.ones(13),\n",
    "                    num_acl=25,\n",
    "                    seed=355)\n",
    "    \n",
    "# Train\n",
    "total_loss = train(model = model,\n",
    "                   # Shared BCs and ACs\n",
    "                   stimulus_local = local_chirp_stim_full,\n",
    "                   responses_local_bcs = bcs_response_local_chirp,\n",
    "                   responses_local_acs = acs_response_local_chirp,\n",
    "                   stimulus_global = chirp_stim_full,\n",
    "                   responses_global_bcs = bcs_response_chirp,\n",
    "                   responses_global_acs = acs_response_chirp,\n",
    "                   # BCs\n",
    "                   stimulus_uv_bcs = bcs_uv_flicker,\n",
    "                   responses_uv_bcs = bcs_response_uv,\n",
    "                   stimulus_green_bcs = bcs_green_flicker,\n",
    "                   responses_green_bcs = bcs_response_green,\n",
    "                   # ACs\n",
    "                   stimulus_uv_acs = [acs_uv_flicker_1, acs_uv_flicker_2],\n",
    "                   responses_uv_acs = [acs_response_uv_1, acs_response_uv_2],\n",
    "                   stimulus_green_acs = [acs_green_flicker_1, acs_green_flicker_2],\n",
    "                   responses_green_acs = [acs_response_green_1, acs_response_green_2],\n",
    "                   penalty_matrix = penalty_matrix,\n",
    "                   penalty_matrix_acs = penalty_matrix_acs,\n",
    "                   log_dir='results/ventral/19/',\n",
    "                   lr = 0.08,\n",
    "                   time_reg_weight=0.02049110734470197,\n",
    "                   sparsity_reg_weight=3.8927961677499236e-03,\n",
    "                   scaling_mean_weight=2.5717471827325356, \n",
    "                   scaling_std_weight=0.6809779474260329,\n",
    "                   scaling_sc_weight = 0.5,\n",
    "                   max_steps=400,\n",
    "                   stop_after = 8)\n",
    "\n",
    "# Plot results\n",
    "plt.plot(total_loss)\n",
    "plt.xlabel('Epoch')\n",
    "plt.ylabel('Loss')\n",
    "plt.show()"
   ]
  },
  {
   "cell_type": "code",
   "execution_count": null,
   "metadata": {},
   "outputs": [],
   "source": []
  }
 ],
 "metadata": {
  "kernelspec": {
   "display_name": "Python 3",
   "language": "python",
   "name": "python3"
  },
  "language_info": {
   "codemirror_mode": {
    "name": "ipython",
    "version": 3
   },
   "file_extension": ".py",
   "mimetype": "text/x-python",
   "name": "python",
   "nbconvert_exporter": "python",
   "pygments_lexer": "ipython3",
   "version": "3.7.5"
  },
  "varInspector": {
   "cols": {
    "lenName": 16,
    "lenType": 16,
    "lenVar": 40
   },
   "kernels_config": {
    "python": {
     "delete_cmd_postfix": "",
     "delete_cmd_prefix": "del ",
     "library": "var_list.py",
     "varRefreshCmd": "print(var_dic_list())"
    },
    "r": {
     "delete_cmd_postfix": ") ",
     "delete_cmd_prefix": "rm(",
     "library": "var_list.r",
     "varRefreshCmd": "cat(var_dic_list()) "
    }
   },
   "types_to_exclude": [
    "module",
    "function",
    "builtin_function_or_method",
    "instance",
    "_Feature"
   ],
   "window_display": false
  }
 },
 "nbformat": 4,
 "nbformat_minor": 4
}
